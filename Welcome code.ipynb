{
  "nbformat": 4,
  "nbformat_minor": 0,
  "metadata": {
    "colab": {
      "provenance": []
    },
    "kernelspec": {
      "name": "python3",
      "display_name": "Python 3"
    },
    "language_info": {
      "name": "python"
    }
  },
  "cells": [
    {
      "cell_type": "code",
      "source": [
        "class Cat:\n",
        "   def __init__(self, name):\n",
        "      self.name = name\n",
        "\n",
        "   def hish(self):\n",
        "      print(f\"{self.name} says hish\")\n",
        "buddy = Cat(\"Buddy\")\n",
        "buddy.hish()"
      ],
      "metadata": {
        "colab": {
          "base_uri": "https://localhost:8080/"
        },
        "id": "LokwgTJrIURQ",
        "outputId": "25b5be7e-8663-403d-e619-189ef55c8a7c"
      },
      "execution_count": 101,
      "outputs": [
        {
          "output_type": "stream",
          "name": "stdout",
          "text": [
            "Buddy says hish\n"
          ]
        }
      ]
    },
    {
      "cell_type": "code",
      "source": [
        "buddy = Cat(\"Buddy\")\n",
        "buddy.hish()"
      ],
      "metadata": {
        "colab": {
          "base_uri": "https://localhost:8080/"
        },
        "id": "_-R-ZKA-JBjv",
        "outputId": "6596faa8-fa17-4c0b-d0dd-2cb495c66397"
      },
      "execution_count": 80,
      "outputs": [
        {
          "output_type": "stream",
          "name": "stdout",
          "text": [
            "Buddy says hish\n"
          ]
        }
      ]
    },
    {
      "cell_type": "code",
      "source": [
        "from typing import NamedTuple\n",
        "def Welcome(name): #defining the Su function\n",
        "    # This function prints a two-line personalized thank you message.\n",
        "    print(\"\\nYou are doing good work,\" , name) #first print sentence\n",
        "    print(\"Thank you very much for your efforts on this project,\", name) #second print sentence\n",
        "\n",
        "Welcome('Durga') #1st call\n",
        "Welcome('Sushant') #2nd call\n",
        "Welcome('Dipson') #3rd call"
      ],
      "metadata": {
        "colab": {
          "base_uri": "https://localhost:8080/"
        },
        "id": "gb5VZduQTtS5",
        "outputId": "8ee9368c-5344-4590-af65-216ead594b4b"
      },
      "execution_count": 115,
      "outputs": [
        {
          "output_type": "stream",
          "name": "stdout",
          "text": [
            "\n",
            "You are doing good work, Durga\n",
            "Thank you very much for your efforts on this project, Durga\n",
            "\n",
            "You are doing good work, Sushant\n",
            "Thank you very much for your efforts on this project, Sushant\n",
            "\n",
            "You are doing good work, Dipson\n",
            "Thank you very much for your efforts on this project, Dipson\n"
          ]
        }
      ]
    }
  ]
}